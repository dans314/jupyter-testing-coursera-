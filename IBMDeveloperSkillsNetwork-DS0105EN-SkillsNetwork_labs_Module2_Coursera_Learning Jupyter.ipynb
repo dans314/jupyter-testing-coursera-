{
  "metadata": {
    "kernelspec": {
      "name": "python",
      "display_name": "Pyolite",
      "language": "python"
    },
    "language_info": {
      "codemirror_mode": {
        "name": "python",
        "version": 3
      },
      "file_extension": ".py",
      "mimetype": "text/x-python",
      "name": "python",
      "nbconvert_exporter": "python",
      "pygments_lexer": "ipython3",
      "version": "3.8"
    }
  },
  "nbformat_minor": 4,
  "nbformat": 4,
  "cells": [
    {
      "cell_type": "markdown",
      "source": "<center>\n    <img src=\"https://cf-courses-data.s3.us.cloud-object-storage.appdomain.cloud/IBMDeveloperSkillsNetwork-DS0105EN-SkillsNetwork/labs/Module2/images/SN_web_lightmode.png\" width=\"300\" alt=\"cognitiveclass.ai logo\"  />\n</center>\n",
      "metadata": {}
    },
    {
      "cell_type": "markdown",
      "source": "#### Add your code below following the instructions given in the course\n",
      "metadata": {}
    },
    {
      "cell_type": "markdown",
      "source": "# My Jupyter Notebook on IBM Watson Studio",
      "metadata": {}
    },
    {
      "cell_type": "markdown",
      "source": "__Daniel Sanders__\n<p> Desired occupation: Data Scientist <p>",
      "metadata": {}
    },
    {
      "cell_type": "markdown",
      "source": "_Being a data scientist is the perfect blend of my passion for technology and my  thirst for knowledge. I am fascinated by the potential of data to improve our understanding of the world and to make better decisions. I believe that data science has the power to improve lives on several scales, from individual businesses to entire communities and societies_. ",
      "metadata": {}
    },
    {
      "cell_type": "markdown",
      "source": "### An example of how to do addition inside of a Jupyter Notebook",
      "metadata": {}
    },
    {
      "cell_type": "code",
      "source": "5+5",
      "metadata": {},
      "execution_count": null,
      "outputs": []
    },
    {
      "cell_type": "markdown",
      "source": "> J Dilla is the greatest Hip Hop Producer of all time\nReasons why\n<ol> 1. His ear for samples and sounds is unmatched. 2. Fought through illness to perform and finnish last album 3. An insance work ethic </ol>\n\nHere's a playlist of [J Dilla's work](https://youtube.com/playlist?list=PL7qh_wqm2nQ77N_7Yf4fEburV6nyQGkIA) for you to enjoy.",
      "metadata": {}
    }
  ]
}